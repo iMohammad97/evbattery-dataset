{
 "cells": [
  {
   "metadata": {},
   "cell_type": "markdown",
   "source": "# 1. Import Necessary Libraries",
   "id": "5e96a266cd3d8ca3"
  },
  {
   "metadata": {
    "ExecuteTime": {
     "end_time": "2024-11-19T16:02:32.668351Z",
     "start_time": "2024-11-19T16:02:30.963235Z"
    }
   },
   "cell_type": "code",
   "source": [
    "import numpy as np\n",
    "import os\n",
    "import pickle\n",
    "from glob import glob\n",
    "import torch\n",
    "import pandas as pd\n",
    "import matplotlib.pyplot as plt\n",
    "import random\n",
    "from tqdm import tqdm"
   ],
   "id": "3f495bac7cbc4fd8",
   "outputs": [],
   "execution_count": 1
  },
  {
   "metadata": {
    "ExecuteTime": {
     "end_time": "2024-11-19T16:02:32.671321Z",
     "start_time": "2024-11-19T16:02:32.669430Z"
    }
   },
   "cell_type": "code",
   "source": "data_dir = \"/Users/mohammadmohammadi/Documents/Research/EVBatteries\"",
   "id": "893e91aaadcde9fe",
   "outputs": [],
   "execution_count": 2
  },
  {
   "metadata": {},
   "cell_type": "markdown",
   "source": "## Checking around the structure of pickle files of each car",
   "id": "da304572bc34d98c"
  },
  {
   "metadata": {},
   "cell_type": "markdown",
   "source": "### In battery_dataset1",
   "id": "16de080538eb2f6"
  },
  {
   "metadata": {
    "ExecuteTime": {
     "end_time": "2024-11-19T16:02:34.542591Z",
     "start_time": "2024-11-19T16:02:32.671879Z"
    }
   },
   "cell_type": "code",
   "source": [
    "\n",
    "# Replace with your actual dataset path\n",
    "data_path = data_dir+'/battery_dataset1/data'\n",
    "data_pkl_files = glob(data_path+'/*.pkl')\n",
    "print(\"Total pickle files in dataset 1 :\"+str(len(data_pkl_files)))\n",
    "dataset_path = data_pkl_files[0]\n",
    "this_pkl_file = torch.load(dataset_path)\n",
    "\n",
    "# Inspect the structure\n",
    "print(\"Main structure of pickle file:\")\n",
    "print(type(this_pkl_file))\n",
    "\n",
    "print(\"type and dimension of first element in tuple:\")\n",
    "print(type(this_pkl_file[0]))  \n",
    "print(len(this_pkl_file[0]))  \n",
    "\n",
    "print(\"type and dimension of 3 first elements of the first element in tuple:\")\n",
    "for i in range(len(this_pkl_file[0])):\n",
    "    print(type(this_pkl_file[0][i]))\n",
    "    print(len(this_pkl_file[0][i]))\n",
    "    if i == 2:\n",
    "        break\n",
    "\n",
    "print(\"type and value of each members of first element of the first element in tuple:\")\n",
    "for i in range(len(this_pkl_file[0])):\n",
    "    for j in this_pkl_file[0][i]:\n",
    "        print(type(j))\n",
    "        print(j)\n",
    "    if i == 0:\n",
    "        break\n",
    "\n",
    "print(\"type and dimension of second element in tuple:\")\n",
    "print(type(this_pkl_file[1]))\n",
    "print(len(this_pkl_file[1]))\n",
    "\n",
    "print(\"keys of second element in tuple:\")\n",
    "print(this_pkl_file[1].keys())\n",
    "\n",
    "print(\"values of second element in tuple:\")\n",
    "print(this_pkl_file[1])  \n"
   ],
   "id": "a774683b9b1c9a6d",
   "outputs": [
    {
     "name": "stdout",
     "output_type": "stream",
     "text": [
      "Total pickle files in dataset 1 :629121\n",
      "Main structure of pickle file:\n",
      "<class 'tuple'>\n",
      "type and dimension of first element in tuple:\n",
      "<class 'numpy.ndarray'>\n",
      "128\n",
      "type and dimension of 3 first elements of the first element in tuple:\n",
      "<class 'numpy.ndarray'>\n",
      "8\n",
      "<class 'numpy.ndarray'>\n",
      "8\n",
      "<class 'numpy.ndarray'>\n",
      "8\n",
      "type and value of each members of first element of the first element in tuple:\n",
      "<class 'numpy.float64'>\n",
      "4.091666666666667\n",
      "<class 'numpy.float64'>\n",
      "-14.3\n",
      "<class 'numpy.float64'>\n",
      "88.16666666666667\n",
      "<class 'numpy.float64'>\n",
      "4.095333333333333\n",
      "<class 'numpy.float64'>\n",
      "4.0713333333333335\n",
      "<class 'numpy.float64'>\n",
      "14.0\n",
      "<class 'numpy.float64'>\n",
      "10.0\n",
      "<class 'numpy.float64'>\n",
      "0.0\n",
      "type and dimension of second element in tuple:\n",
      "<class 'collections.OrderedDict'>\n",
      "5\n",
      "keys of second element in tuple:\n",
      "odict_keys(['label', 'car', 'charge_segment', 'mileage', 'capacity'])\n",
      "values of second element in tuple:\n",
      "OrderedDict([('label', '00'), ('car', 43), ('charge_segment', '365'), ('mileage', 153177.12960000001), ('capacity', np.float64(40.504931000000006))])\n"
     ]
    },
    {
     "name": "stderr",
     "output_type": "stream",
     "text": [
      "/var/folders/w7/4dvwl9yj5zgch4zz70np_c1h0000gn/T/ipykernel_67772/1452401956.py:6: FutureWarning: You are using `torch.load` with `weights_only=False` (the current default value), which uses the default pickle module implicitly. It is possible to construct malicious pickle data which will execute arbitrary code during unpickling (See https://github.com/pytorch/pytorch/blob/main/SECURITY.md#untrusted-models for more details). In a future release, the default value for `weights_only` will be flipped to `True`. This limits the functions that could be executed during unpickling. Arbitrary objects will no longer be allowed to be loaded via this mode unless they are explicitly allowlisted by the user via `torch.serialization.add_safe_globals`. We recommend you start setting `weights_only=True` for any use case where you don't have full control of the loaded file. Please open an issue on GitHub for any issues related to this experimental feature.\n",
      "  this_pkl_file = torch.load(dataset_path)\n"
     ]
    }
   ],
   "execution_count": 3
  },
  {
   "metadata": {
    "ExecuteTime": {
     "end_time": "2024-11-19T16:02:34.546050Z",
     "start_time": "2024-11-19T16:02:34.543587Z"
    }
   },
   "cell_type": "code",
   "source": [
    "# Load the pickle file\n",
    "example_data = this_pkl_file\n",
    "\n",
    "# Check the structure\n",
    "print(f\"Data type: {type(example_data)}\")  # Should be a tuple\n",
    "print(f\"Number of elements: {len(example_data)}\")  # Should be 2\n",
    "\n",
    "# Extract elements\n",
    "time_series_data = example_data[0]  # First element (numpy.ndarray)\n",
    "meta_data = example_data[1]         # Second element (OrderedDict)\n",
    "\n",
    "# Inspect the contents\n",
    "print(\"Time-series data shape:\", time_series_data.shape)  # Should be (128, 8)\n",
    "print(\"Metadata:\", meta_data)"
   ],
   "id": "16084e6fe0648dad",
   "outputs": [
    {
     "name": "stdout",
     "output_type": "stream",
     "text": [
      "Data type: <class 'tuple'>\n",
      "Number of elements: 2\n",
      "Time-series data shape: (128, 8)\n",
      "Metadata: OrderedDict([('label', '00'), ('car', 43), ('charge_segment', '365'), ('mileage', 153177.12960000001), ('capacity', np.float64(40.504931000000006))])\n"
     ]
    }
   ],
   "execution_count": 4
  },
  {
   "metadata": {
    "ExecuteTime": {
     "end_time": "2024-11-19T16:02:34.549247Z",
     "start_time": "2024-11-19T16:02:34.547558Z"
    }
   },
   "cell_type": "code",
   "source": [
    "# Print metadata\n",
    "for key, value in meta_data.items():\n",
    "    print(f\"{key}: {value}\")\n"
   ],
   "id": "56c0c645c43ad32c",
   "outputs": [
    {
     "name": "stdout",
     "output_type": "stream",
     "text": [
      "label: 00\n",
      "car: 43\n",
      "charge_segment: 365\n",
      "mileage: 153177.12960000001\n",
      "capacity: 40.504931000000006\n"
     ]
    }
   ],
   "execution_count": 5
  },
  {
   "metadata": {
    "ExecuteTime": {
     "end_time": "2024-11-19T16:02:34.649019Z",
     "start_time": "2024-11-19T16:02:34.549797Z"
    }
   },
   "cell_type": "code",
   "source": [
    "# Extract individual features (columns)\n",
    "timestamps = time_series_data[:, 7]  # Assuming column 7 is 'timestamp'\n",
    "voltages = time_series_data[:, 0]    # Assuming column 0 is 'average cell voltage'\n",
    "currents = time_series_data[:, 1]    # Assuming column 1 is 'charging current'\n",
    "\n",
    "# Plot the data\n",
    "plt.figure(figsize=(10, 5))\n",
    "\n",
    "# Voltage over time\n",
    "plt.plot(timestamps, voltages, label='Average Cell Voltage')\n",
    "\n",
    "# Current over time\n",
    "plt.plot(timestamps, currents, label='Charging Current', linestyle='--')\n",
    "\n",
    "plt.xlabel('Timestamp')\n",
    "plt.ylabel('Value')\n",
    "plt.title(f\"Time-Series Data for Car {meta_data['car']}, Segment {meta_data['charge_segment']}\")\n",
    "plt.legend()\n",
    "plt.show()\n"
   ],
   "id": "3377fef7f66c6c05",
   "outputs": [
    {
     "data": {
      "text/plain": [
       "<Figure size 1000x500 with 1 Axes>"
      ],
      "image/png": "[encoded data removed]"
     },
     "metadata": {},
     "output_type": "display_data"
    }
   ],
   "execution_count": 6
  },
  {
   "metadata": {},
   "cell_type": "markdown",
   "source": [
    "Dataset 1:\n",
    "- Total pickle files: 629,121\n",
    "- Each file contains:\n",
    "  Tuple:\n",
    "    - Element 0: <numpy.ndarray> (Time-series data)\n",
    "      - Shape: (128, 8)  # 128 samples with 8 features each\n",
    "      - Each sample (row):\n",
    "        - Feature 1: <numpy.float64> (e.g., average cell voltage)\n",
    "        - Feature 2: <numpy.float64> (e.g., charging current)\n",
    "        - Feature 3: <numpy.float64> (e.g., max cell voltage)\n",
    "        - Feature 4: <numpy.float64> (e.g., min cell voltage)\n",
    "        - Feature 5: <numpy.float64> (e.g., max cell temperature)\n",
    "        - Feature 6: <numpy.float64> (e.g., min cell temperature)\n",
    "        - Feature 7: <numpy.float64> (e.g., SOC)\n",
    "        - Feature 8: <numpy.float64> (e.g., timestamp)\n",
    "\n",
    "    - Element 1: <collections.OrderedDict> (Metadata)\n",
    "      - Keys:\n",
    "        - 'label': <str> (e.g., '00' for normal, others for anomalies)\n",
    "        - 'car': <int> (Car identifier)\n",
    "        - 'charge_segment': <str> (Charge segment ID)\n",
    "        - 'mileage': <float> (Car mileage)\n",
    "        - 'capacity': <numpy.float64> (Battery capacity)\n"
   ],
   "id": "5aa65aca3828fb4b"
  },
  {
   "metadata": {},
   "cell_type": "markdown",
   "source": "# 2. Load Dataset",
   "id": "4634b24d216a72d2"
  },
  {
   "metadata": {},
   "cell_type": "markdown",
   "source": "This section groups .pkl files by car numbers and prepares the dataset for further processing.",
   "id": "e4f3aff313110c0f"
  },
  {
   "metadata": {
    "jupyter": {
     "is_executing": true
    },
    "ExecuteTime": {
     "start_time": "2024-11-19T16:02:34.649785Z"
    }
   },
   "cell_type": "code",
   "source": [
    "# Define the data directory\n",
    "data_path = data_dir+'/battery_dataset1/data'\n",
    "\n",
    "# Get all .pkl files\n",
    "data_pkl_files = glob(data_path + '/*.pkl')\n",
    "\n",
    "# Initialize storage\n",
    "ind_pkl_files = []  # Paths for in-distribution files\n",
    "ood_pkl_files = []  # Paths for out-of-distribution files\n",
    "ind_car_num_list = set()  # Car numbers for IND\n",
    "ood_car_num_list = set()  # Car numbers for OOD\n",
    "all_car_dict = {}  # Dictionary to group files by car number\n",
    "\n",
    "# Process each pickle file\n",
    "for each_path in tqdm(data_pkl_files, desc=\"Processing dataset\"):\n",
    "    # Load the pickle file\n",
    "    this_pkl_file = torch.load(each_path)\n",
    "    \n",
    "    # Extract metadata\n",
    "    this_car_number = this_pkl_file[1]['car']  # Car identifier\n",
    "    this_label = this_pkl_file[1]['label']     # Label ('00' for IND, others for OOD)\n",
    "    \n",
    "    # Categorize based on the label\n",
    "    if this_label == '00':\n",
    "        ind_pkl_files.append(each_path)\n",
    "        ind_car_num_list.add(this_car_number)\n",
    "    else:\n",
    "        ood_pkl_files.append(each_path)\n",
    "        ood_car_num_list.add(this_car_number)\n",
    "    \n",
    "    # Add the car number to the global car list\n",
    "    if this_car_number not in all_car_dict:\n",
    "        all_car_dict[this_car_number] = []\n",
    "    all_car_dict[this_car_number].append(each_path)\n",
    "\n",
    "# Output summary\n",
    "print(f\"Total files processed: {len(data_pkl_files)}\")\n",
    "print(f\"In-distribution files: {len(ind_pkl_files)}\")\n",
    "print(f\"Out-of-distribution files: {len(ood_pkl_files)}\")\n",
    "print(f\"Unique cars in IND: {len(ind_car_num_list)}\")\n",
    "print(f\"Unique cars in OOD: {len(ood_car_num_list)}\")"
   ],
   "id": "1c625f03759dca44",
   "outputs": [
    {
     "name": "stderr",
     "output_type": "stream",
     "text": [
      "Processing dataset:   0%|          | 0/629121 [00:00<?, ?it/s]/var/folders/w7/4dvwl9yj5zgch4zz70np_c1h0000gn/T/ipykernel_67772/4163420362.py:17: FutureWarning: You are using `torch.load` with `weights_only=False` (the current default value), which uses the default pickle module implicitly. It is possible to construct malicious pickle data which will execute arbitrary code during unpickling (See https://github.com/pytorch/pytorch/blob/main/SECURITY.md#untrusted-models for more details). In a future release, the default value for `weights_only` will be flipped to `True`. This limits the functions that could be executed during unpickling. Arbitrary objects will no longer be allowed to be loaded via this mode unless they are explicitly allowlisted by the user via `torch.serialization.add_safe_globals`. We recommend you start setting `weights_only=True` for any use case where you don't have full control of the loaded file. Please open an issue on GitHub for any issues related to this experimental feature.\n",
      "  this_pkl_file = torch.load(each_path)\n",
      "Processing dataset:  20%|██        | 128222/629121 [00:43<03:24, 2453.92it/s]"
     ]
    }
   ],
   "execution_count": null
  },
  {
   "metadata": {},
   "cell_type": "markdown",
   "source": "# 3. Visualize a Car’s Data",
   "id": "12e1716b518e0a46"
  },
  {
   "metadata": {},
   "cell_type": "markdown",
   "source": [
    "Once we have the file paths grouped by car numbers, we can load and visualize the data for a specific car.\n",
    "This section loads a specific car’s data and visualizes the time-series information for one of its charge segments."
   ],
   "id": "7f9f7a922acec3ed"
  },
  {
   "metadata": {
    "jupyter": {
     "is_executing": true
    }
   },
   "cell_type": "code",
   "source": [
    "\n",
    "# Choose a car number\n",
    "car_number = list(all_car_dict.keys())[0]  # Select the first car\n",
    "car_files = all_car_dict[car_number]      # Get all files for this car\n",
    "\n",
    "# Load a specific file (first charge segment for the chosen car)\n",
    "example_path = car_files[0]\n",
    "example_data = torch.load(example_path)\n",
    "\n",
    "# Extract time-series data (first element in tuple) and metadata (second element)\n",
    "time_series = example_data[0]  # numpy.ndarray, shape: (128, 8)\n",
    "meta_data = example_data[1]    # OrderedDict\n",
    "\n",
    "# Print metadata\n",
    "print(\"Metadata for the selected file:\")\n",
    "for key, value in meta_data.items():\n",
    "    print(f\"  {key}: {value}\")\n",
    "\n",
    "# Extract features for visualization\n",
    "timestamps = time_series[:, 7]  # Assuming column 7 is 'timestamp'\n",
    "voltages = time_series[:, 0]    # Assuming column 0 is 'average cell voltage'\n",
    "currents = time_series[:, 1]    # Assuming column 1 is 'charging current'\n",
    "\n",
    "# Plot time-series data\n",
    "plt.figure(figsize=(10, 5))\n",
    "\n",
    "plt.plot(timestamps, voltages, label='Average Cell Voltage')\n",
    "plt.plot(timestamps, currents, label='Charging Current', linestyle='--')\n",
    "\n",
    "plt.xlabel('Timestamp')\n",
    "plt.ylabel('Value')\n",
    "plt.title(f\"Time-Series Data for Car {car_number}, Segment {meta_data['charge_segment']}\")\n",
    "plt.legend()\n",
    "plt.show()"
   ],
   "id": "e56c56b8597f135c",
   "outputs": [],
   "execution_count": null
  }
 ],
 "metadata": {
  "kernelspec": {
   "display_name": "Python 3",
   "language": "python",
   "name": "python3"
  },
  "language_info": {
   "codemirror_mode": {
    "name": "ipython",
    "version": 2
   },
   "file_extension": ".py",
   "mimetype": "text/x-python",
   "name": "python",
   "nbconvert_exporter": "python",
   "pygments_lexer": "ipython2",
   "version": "2.7.6"
  }
 },
 "nbformat": 4,
 "nbformat_minor": 5
}
